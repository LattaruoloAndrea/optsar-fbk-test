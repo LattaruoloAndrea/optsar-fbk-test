{
 "cells": [
  {
   "cell_type": "code",
   "execution_count": 2,
   "id": "c018b651-7be5-470e-90a0-90761a50f403",
   "metadata": {},
   "outputs": [],
   "source": [
    "import digitalhub as dh\n",
    "# conda install -c conda-forge gdal\n",
    "PROJECT_NAME = \"OPT_project\"\n",
    "proj = dh.get_or_create_project(PROJECT_NAME) # source=\"git://github.com/scc-digitalhu"
   ]
  },
  {
   "cell_type": "code",
   "execution_count": 58,
   "id": "bc0fd72b-237e-47d0-b84d-62c39db5c1a4",
   "metadata": {},
   "outputs": [],
   "source": [
    "FUNCTION_NAME=\"execute-preprocessing\"\n",
    "func = proj.new_function(name=FUNCTION_NAME,\n",
    "                         kind=\"python\",\n",
    "                         python_version=\"PYTHON3_9\",\n",
    "                         handler=\"main_dh_core:main\",\n",
    "                         code_src=\"git+https://github.com/LattaruoloAndrea/optsar-fbk-test\")"
   ]
  },
  {
   "cell_type": "code",
   "execution_count": null,
   "id": "647c9d6d",
   "metadata": {},
   "outputs": [],
   "source": [
    "func.run(action=\"build\", instructions=[\"echo '####################################################################'\",\"ls \",\"pip install -r requirements.txt\",\"conda install gdal\",\"echo '####################################################################'\"],)"
   ]
  },
  {
   "cell_type": "code",
   "execution_count": 59,
   "id": "25eb5364-70f7-49bc-9229-119c0aa4e4a1",
   "metadata": {},
   "outputs": [],
   "source": [
    "options = {\n",
    "    'sensor': \"S2\",\n",
    "    'tilename': \"42WXS\",\n",
    "    'years': [\"2017\",\"2018\"],\n",
    "    'maindir': \"/\",\n",
    "    'outpath': \"/outputs\",\n",
    "    'info': False,\n",
    "    'deltemp': False\n",
    "}\n",
    "\n",
    "datapath = \"/inputs\"\n",
    "m1options = True\n",
    "\n",
    "input_ab ={\n",
    "    \"datapath\" : datapath,\n",
    "    \"options\" :options,\n",
    "\t\"module1\" : m1options,\n",
    "}\n",
    "#  processor.job Something got wrong during function execution. (\"main() missing 3 required positional arguments: 'datapath', 'options', and 'module1'\",) {\"worker_id\": \"0\"\n",
    "\n",
    "run_download = func.run(action=\"job\",\n",
    "                        parameters=input_ab,\n",
    "                         local_execution=False)"
   ]
  },
  {
   "cell_type": "code",
   "execution_count": 20,
   "id": "64f10fca-e411-466f-a5cc-cb3936b1f56c",
   "metadata": {},
   "outputs": [
    {
     "data": {
      "text/plain": [
       "{'project': 'OPT_project', 'id': '052e3890-0dc5-492f-9765-0d1c03863ddc', 'kind': 'python+run', 'key': 'store://OPT_project/runs/python+run/052e3890-0dc5-492f-9765-0d1c03863ddc', 'metadata': {'project': 'OPT_project', 'name': '052e3890-0dc5-492f-9765-0d1c03863ddc', 'created': '2024-07-31T07:56:54.15Z', 'updated': '2024-07-31T07:56:54.163Z', 'created_by': 'tenant1userid', 'updated_by': 'tenant1userid'}, 'spec': {'task': 'python+job://OPT_project/execute-preprocessing:20b6ed6a-b732-4cc7-a8fa-63ef5bc96a7c', 'local_execution': False, 'source': {'source': 'git+https://github.com/LattaruoloAndrea/optsar-fbk-test', 'handler': 'LattaruoloAndrea.optsar-fbk-test.main_dh_core:main', 'lang': 'python'}, 'python_version': 'PYTHON3_9', 'function': 'python://OPT_project/execute-preprocessing:20b6ed6a-b732-4cc7-a8fa-63ef5bc96a7c', 'inputs': {}, 'outputs': {}, 'parameters': {}}, 'status': {'state': 'READY'}, 'user': 'tenant1userid'}"
      ]
     },
     "execution_count": 20,
     "metadata": {},
     "output_type": "execute_result"
    }
   ],
   "source": [
    "run_download"
   ]
  }
 ],
 "metadata": {
  "kernelspec": {
   "display_name": "Python 3 (ipykernel)",
   "language": "python",
   "name": "python3"
  },
  "language_info": {
   "codemirror_mode": {
    "name": "ipython",
    "version": 3
   },
   "file_extension": ".py",
   "mimetype": "text/x-python",
   "name": "python",
   "nbconvert_exporter": "python",
   "pygments_lexer": "ipython3",
   "version": "3.10.11"
  }
 },
 "nbformat": 4,
 "nbformat_minor": 5
}
