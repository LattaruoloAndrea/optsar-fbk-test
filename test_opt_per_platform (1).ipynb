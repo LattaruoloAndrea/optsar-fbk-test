{
 "cells": [
  {
   "cell_type": "code",
   "execution_count": 2,
   "id": "c018b651-7be5-470e-90a0-90761a50f403",
   "metadata": {},
   "outputs": [],
   "source": [
    "import digitalhub as dh\n",
    "# conda install -c conda-forge gdal\n",
    "PROJECT_NAME = \"OPT_project\"\n",
    "proj = dh.get_or_create_project(PROJECT_NAME) # source=\"git://github.com/scc-digitalhu"
   ]
  },
  {
   "cell_type": "code",
   "execution_count": 3,
   "id": "b912986f-1625-4563-a7ca-27dd29706c2f",
   "metadata": {},
   "outputs": [
    {
     "name": "stdout",
     "output_type": "stream",
     "text": [
      "Writing opt_main_file.py\n"
     ]
    }
   ],
   "source": [
    "%%writefile \"opt_main_file.py\"\n",
    "\n",
    "from digitalhub_runtime_python import handler\n",
    "import sys, os, time, json\n",
    "import configparser\n",
    "import argparse\n",
    "from datetime import timedelta\n",
    "\n",
    "# from multiprocessing import freeze_support, set_start_method #some stuff for multi-processing support\n",
    "from joblib import Parallel, delayed, parallel_backend\n",
    "\n",
    "from libs.RSdatamanager import filemanager as fm\n",
    "from libs.RSdatamanager.Sentinel2.S2L2A import L2Atile, getTileList\n",
    "from libs.RSdatamanager.Landsat.LandsatL2SP import L2SPtile, getL2SPTileList\n",
    "from libs.ToolboxModules import featurext as m1\n",
    "\n",
    "\n",
    "def tile_reading_1(tileDatapath, maindir, sensor):\n",
    "    if sensor == 'S2':\n",
    "        tile = L2Atile(maindir, tileDatapath)\n",
    "    if sensor == 'Landsat':\n",
    "        tile = L2SPtile(maindir, tileDatapath)\n",
    "    return tile\n",
    "\n",
    "\n",
    "def tile_reading_2(tile, outpath, tilename, year, **kwargs):\n",
    "    #UPDATE OPTIONS\n",
    "    name = str(tilename) + '_' + year\n",
    "    update = {\n",
    "        'year': year,\n",
    "        'savepath': fm.check_folder(outpath, name)\n",
    "    }\n",
    "    #MODULE 1\n",
    "    options = kwargs.get('module1',{})\n",
    "    options.update( update )\n",
    "    m1.manager(tile, **options)\n",
    "\n",
    "\n",
    "def parallel_tile_reading(tiledict, maindir, sensor, tile_keys, outpath, tilename, years, **kwargs):\n",
    "    tiles = Parallel(n_jobs=-1)(delayed(tile_reading_1)(tiledict[k], maindir, sensor) for k in tile_keys)\n",
    "    Parallel(n_jobs=-1)(delayed(tile_reading_2)(tile, outpath, tilename, year, **kwargs) for tile in tiles for year in years)\n",
    "\n",
    "@handler()\n",
    "def main(project, datapath, options,module1):\n",
    "    #PREPARE SOME TOOLBOX PARAMETERS\n",
    "    sensor = options.get('sensor', None)\n",
    "    tilename = options.get('tilename', None)\n",
    "    years = options.get('years', None)\n",
    "    maindir = options.get('maindir', None)\n",
    "    outpath = options.get('outpath', None)\n",
    "    deltemp = options.get('deltemp', True)\n",
    "\n",
    "    with parallel_backend('loky'):\n",
    "        if (module1):\n",
    "            logging = {} \n",
    "            t_tot = time.time()  \n",
    "            #READ DATASETS\n",
    "            if sensor == 'S2':\n",
    "                tiledict = getTileList(datapath)\n",
    "            elif sensor == 'Landsat':\n",
    "                tiledict = getL2SPTileList(datapath)\n",
    "            else:\n",
    "                raise IOError('Invalid sensor')\n",
    "            keys = tiledict.keys()\n",
    "\n",
    "            parallel_tile_reading(tiledict, maindir, sensor, keys, outpath, tilename, years, **kwargs)\n",
    "\n",
    "            t_tot = timedelta(seconds=(time.time() - t_tot))     \n",
    "            print(\"MOD1 TIME = \", t_tot,flush=True)\n",
    "            logging['MODULE 1'] = {'TIME': str(t_tot) }\n",
    "            with open(fm.joinpath(outpath,\"logging_MODULE 1.txt\"),'w') as json_file:\n",
    "                json.dump(logging,json_file)"
   ]
  },
  {
   "cell_type": "code",
   "execution_count": 58,
   "id": "bc0fd72b-237e-47d0-b84d-62c39db5c1a4",
   "metadata": {},
   "outputs": [],
   "source": [
    "FUNCTION_NAME=\"execute-preprocessing\"\n",
    "func = proj.new_function(name=FUNCTION_NAME,\n",
    "                         kind=\"python\",\n",
    "                         python_version=\"PYTHON3_9\",\n",
    "                         # ,\"pydtw==2.0.2\"\n",
    "                         # requirements=[\"h5py\",\"imageio\",\"joblib\",\"matplotlib\",\"pandas\",\"scikit-image\",\"scikit-learn\",\"six\",\"scipy\",\"numpy\"],\n",
    "                         handler=\"LattaruoloAndrea.optsar-fbk-test.main_dh_core:main\",\n",
    "                         code_src=\"git+https://github.com/LattaruoloAndrea/optsar-fbk-test\")"
   ]
  },
  {
   "cell_type": "code",
   "execution_count": null,
   "id": "647c9d6d",
   "metadata": {},
   "outputs": [],
   "source": [
    "func.run(action=\"build\", instructions=[\"echo '####################################################################'\",\"conda install gdal\",\"echo '####################################################################'\"],)"
   ]
  },
  {
   "cell_type": "code",
   "execution_count": 59,
   "id": "25eb5364-70f7-49bc-9229-119c0aa4e4a1",
   "metadata": {},
   "outputs": [],
   "source": [
    "options = {\n",
    "    'sensor': \"S2\",\n",
    "    'tilename': \"42WXS\",\n",
    "    'years': [\"2017\",\"2018\"],\n",
    "    'maindir': \"/\",\n",
    "    'outpath': \"/outputs\",\n",
    "    'info': False,\n",
    "    'deltemp': False\n",
    "}\n",
    "\n",
    "datapath = \"/inputs\"\n",
    "m1options = True\n",
    "\n",
    "input ={\n",
    "    \"datapath\" : datapath,\n",
    "    \"options\" :options,\n",
    "\t\"module1\" : m1options,\n",
    "}\n",
    "\n",
    "run_download = func.run(action=\"job\",\n",
    "                        #instructions=[\"echo '####################################################################'\",\"conda install gdal\",\"echo '####################################################################'\"],\n",
    "                        inputs={},\n",
    "                         local_execution=False)"
   ]
  },
  {
   "cell_type": "code",
   "execution_count": 20,
   "id": "64f10fca-e411-466f-a5cc-cb3936b1f56c",
   "metadata": {},
   "outputs": [
    {
     "data": {
      "text/plain": [
       "{'project': 'OPT_project', 'id': '052e3890-0dc5-492f-9765-0d1c03863ddc', 'kind': 'python+run', 'key': 'store://OPT_project/runs/python+run/052e3890-0dc5-492f-9765-0d1c03863ddc', 'metadata': {'project': 'OPT_project', 'name': '052e3890-0dc5-492f-9765-0d1c03863ddc', 'created': '2024-07-31T07:56:54.15Z', 'updated': '2024-07-31T07:56:54.163Z', 'created_by': 'tenant1userid', 'updated_by': 'tenant1userid'}, 'spec': {'task': 'python+job://OPT_project/execute-preprocessing:20b6ed6a-b732-4cc7-a8fa-63ef5bc96a7c', 'local_execution': False, 'source': {'source': 'git+https://github.com/LattaruoloAndrea/optsar-fbk-test', 'handler': 'LattaruoloAndrea.optsar-fbk-test.main_dh_core:main', 'lang': 'python'}, 'python_version': 'PYTHON3_9', 'function': 'python://OPT_project/execute-preprocessing:20b6ed6a-b732-4cc7-a8fa-63ef5bc96a7c', 'inputs': {}, 'outputs': {}, 'parameters': {}}, 'status': {'state': 'READY'}, 'user': 'tenant1userid'}"
      ]
     },
     "execution_count": 20,
     "metadata": {},
     "output_type": "execute_result"
    }
   ],
   "source": [
    "run_download"
   ]
  }
 ],
 "metadata": {
  "kernelspec": {
   "display_name": "Python 3 (ipykernel)",
   "language": "python",
   "name": "python3"
  },
  "language_info": {
   "codemirror_mode": {
    "name": "ipython",
    "version": 3
   },
   "file_extension": ".py",
   "mimetype": "text/x-python",
   "name": "python",
   "nbconvert_exporter": "python",
   "pygments_lexer": "ipython3",
   "version": "3.10.11"
  }
 },
 "nbformat": 4,
 "nbformat_minor": 5
}
