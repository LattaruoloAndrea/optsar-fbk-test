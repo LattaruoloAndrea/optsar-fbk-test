{
 "cells": [
  {
   "cell_type": "code",
   "execution_count": 2,
   "id": "c018b651-7be5-470e-90a0-90761a50f403",
   "metadata": {},
   "outputs": [],
   "source": [
    "import digitalhub as dh\n",
    "# conda install -c conda-forge gdal\n",
    "PROJECT_NAME = \"OPT_project\"\n",
    "proj = dh.get_or_create_project(PROJECT_NAME) # source=\"git://github.com/scc-digitalhu"
   ]
  },
  {
   "cell_type": "code",
   "execution_count": null,
   "id": "855e6f87",
   "metadata": {},
   "outputs": [],
   "source": [
    "%conda install gdal"
   ]
  },
  {
   "cell_type": "code",
   "execution_count": 3,
   "id": "b912986f-1625-4563-a7ca-27dd29706c2f",
   "metadata": {},
   "outputs": [
    {
     "name": "stdout",
     "output_type": "stream",
     "text": [
      "Writing opt_main_file.py\n"
     ]
    }
   ],
   "source": [
    "%%writefile \"opt_main_file.py\"\n",
    "\n",
    "from digitalhub_runtime_python import handler\n",
    "import sys, os, time, json\n",
    "import configparser\n",
    "import argparse\n",
    "from datetime import timedelta\n",
    "\n",
    "# from multiprocessing import freeze_support, set_start_method #some stuff for multi-processing support\n",
    "from joblib import Parallel, delayed, parallel_backend\n",
    "\n",
    "from libs.RSdatamanager import filemanager as fm\n",
    "from libs.RSdatamanager.Sentinel2.S2L2A import L2Atile, getTileList\n",
    "from libs.RSdatamanager.Landsat.LandsatL2SP import L2SPtile, getL2SPTileList\n",
    "from libs.ToolboxModules import featurext as m1\n",
    "\n",
    "\n",
    "def tile_reading_1(tileDatapath, maindir, sensor):\n",
    "    if sensor == 'S2':\n",
    "        tile = L2Atile(maindir, tileDatapath)\n",
    "    if sensor == 'Landsat':\n",
    "        tile = L2SPtile(maindir, tileDatapath)\n",
    "    return tile\n",
    "\n",
    "\n",
    "def tile_reading_2(tile, outpath, tilename, year, **kwargs):\n",
    "    #UPDATE OPTIONS\n",
    "    name = str(tilename) + '_' + year\n",
    "    update = {\n",
    "        'year': year,\n",
    "        'savepath': fm.check_folder(outpath, name)\n",
    "    }\n",
    "    #MODULE 1\n",
    "    options = kwargs.get('module1',{})\n",
    "    options.update( update )\n",
    "    m1.manager(tile, **options)\n",
    "\n",
    "\n",
    "def parallel_tile_reading(tiledict, maindir, sensor, tile_keys, outpath, tilename, years, **kwargs):\n",
    "    tiles = Parallel(n_jobs=-1)(delayed(tile_reading_1)(tiledict[k], maindir, sensor) for k in tile_keys)\n",
    "    Parallel(n_jobs=-1)(delayed(tile_reading_2)(tile, outpath, tilename, year, **kwargs) for tile in tiles for year in years)\n",
    "\n",
    "@handler()\n",
    "def main(**kwargs):\n",
    "    #PREPARE SOME TOOLBOX PARAMETERS\n",
    "    sensor = kwargs['options'].get('sensor', None)\n",
    "    tilename = kwargs['options'].get('tilename', None)\n",
    "    years = kwargs['options'].get('years', None)\n",
    "    maindir = kwargs['options'].get('maindir', None)\n",
    "    outpath = kwargs['options'].get('outpath', None)\n",
    "    deltemp = kwargs['options'].get('deltemp', True)\n",
    "    datapath = kwargs['datapath']\n",
    "    module1 = kwargs['module1']\n",
    "\n",
    "    with parallel_backend('loky'):\n",
    "        if (module1):\n",
    "            logging = {} \n",
    "            t_tot = time.time()  \n",
    "            #READ DATASETS\n",
    "            if sensor == 'S2':\n",
    "                tiledict = getTileList(datapath)\n",
    "            elif sensor == 'Landsat':\n",
    "                tiledict = getL2SPTileList(datapath)\n",
    "            else:\n",
    "                raise IOError('Invalid sensor')\n",
    "            keys = tiledict.keys()\n",
    "\n",
    "            parallel_tile_reading(tiledict, maindir, sensor, keys, outpath, tilename, years, **kwargs)\n",
    "\n",
    "            t_tot = timedelta(seconds=(time.time() - t_tot))     \n",
    "            print(\"MOD1 TIME = \", t_tot,flush=True)      \n",
    "            logging['MODULE 1'] = {'TIME': str(t_tot) }            \n",
    "            file = fm.joinpath(outpath,\"logging_MODULE.txt\")\n",
    "            fm.check_folder(outpath)\n",
    "            with open(file,'w') as json_file:\n",
    "               json.dump(logging,json_file) "
   ]
  },
  {
   "cell_type": "code",
   "execution_count": 58,
   "id": "bc0fd72b-237e-47d0-b84d-62c39db5c1a4",
   "metadata": {},
   "outputs": [],
   "source": [
    "FUNCTION_NAME=\"execute-preprocessing\"\n",
    "func = proj.new_function(name=\"python-function\",\n",
    "                         kind=\"python\",\n",
    "                         code_src=\"opt_main_file.py\",\n",
    "                         handler=\"main\",\n",
    "                         python_version=\"PYTHON3_9\",\n",
    "                         requirements=[\"astroid==2.4.2\",\"certifi==2020.6.20\",\"cycler==0.10.0\",\"decorator==4.4.2\",\"h5py==3.10.0\",\"imageio==2.9.0\",\"isort==5.5.1\",\"joblib==0.16.0\",\"kiwisolver==1.2.0\",\"lazy-object-proxy==1.4.3\",\"matplotlib==3.4.0\",\"mccabe==0.6.1\",\"networkx==2.5\",\"numpy==1.23.5\",\"pandas\",\"Pillow==7.2.0\",\"pylint==2.6.0\",\"pyparsing==2.4.7\",\"python-dateutil==2.8.2\",\"pytz==2020.1\",\"PyWavelets==1.1.1\",\"scikit-image\",\"scikit-learn\",\"scipy\",\"six==1.15.0\",\"threadpoolctl==2.1.0\",\"toml==0.10.1\",\"wrapt==1.11.2\"],\n",
    "                         )"
   ]
  },
  {
   "cell_type": "code",
   "execution_count": 59,
   "id": "25eb5364-70f7-49bc-9229-119c0aa4e4a1",
   "metadata": {},
   "outputs": [],
   "source": [
    "options = {\n",
    "    'sensor': \"S2\",\n",
    "    'tilename': \"42WXS\",\n",
    "    'years': [\"2017\",\"2018\"],\n",
    "    'maindir': \"/\",\n",
    "    'outpath': \"outputs/\",\n",
    "    'info': False,\n",
    "    'deltemp': False\n",
    "}\n",
    "\n",
    "datapath = \"inputs/\"\n",
    "m1options = True\n",
    "\n",
    "input_ab ={\n",
    "    \"datapath\" : datapath,\n",
    "    \"options\" :options,\n",
    "\t\"module1\" : m1options,\n",
    "}\n",
    "#  processor.job Something got wrong during function execution. (\"main() missing 3 required positional arguments: 'datapath', 'options', and 'module1'\",) {\"worker_id\": \"0\"\n",
    "\n",
    "run_download = func.run(action=\"job\",\n",
    "                        parameters=input_ab,\n",
    "                         local_execution=True)"
   ]
  }
 ],
 "metadata": {
  "kernelspec": {
   "display_name": "Python 3 (ipykernel)",
   "language": "python",
   "name": "python3"
  },
  "language_info": {
   "codemirror_mode": {
    "name": "ipython",
    "version": 3
   },
   "file_extension": ".py",
   "mimetype": "text/x-python",
   "name": "python",
   "nbconvert_exporter": "python",
   "pygments_lexer": "ipython3",
   "version": "3.10.11"
  }
 },
 "nbformat": 4,
 "nbformat_minor": 5
}
